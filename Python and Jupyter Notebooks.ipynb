{
 "cells": [
  {
   "cell_type": "markdown",
   "metadata": {},
   "source": [
    "**Length: 45 minutes**\n",
    "\n",
    "**Contents:**\n",
    "\n",
    "1) print 'Hello world'. Then move on to look at other strings and addition of strings. And assigning variables to strings\n",
    "\n",
    "2) Assigning values and then playing around with them\n",
    "\n",
    "3) Lists\n",
    "\n",
    "4) Conditions, if, for, while loops\n",
    "\n",
    "5) Functions\n",
    "\n",
    "6) Numpy, scipy, matplotlib\n",
    "\n",
    "7) Mathematical operations using Numpy and scipy\n",
    "\n",
    "8) Plotting graphs with matplotlib\n"
   ]
  },
  {
   "cell_type": "markdown",
   "metadata": {},
   "source": [
    "This tutorial is aimed at going through the key parts of Python that you will need to do the rest of the tutorials. Consequently it will miss out a great deal of the features of the language. \n",
    "\n",
    "All the tutorials run by me will contain explanations (like this!), examples where you just need to run the code to see what happens (click on it and press \"Run\" or click on the cell and press the keys Shift+enter) and exercises where you will need to write your own code. Some exercises will be very short and some significantly longer.\n",
    "\n",
    "We will start as everyone always starts with writing \"Hello World!\"\n",
    "\n",
    "**Example:**"
   ]
  },
  {
   "cell_type": "code",
   "execution_count": null,
   "metadata": {
    "scrolled": true
   },
   "outputs": [],
   "source": [
    "print('Hello World')"
   ]
  },
  {
   "cell_type": "markdown",
   "metadata": {},
   "source": [
    "Now we want to be able to create strings and add them together. In Python this is very easy. First we will define two strings: string1 and string2. Then we can add them together and print them out. Note that you can use both single quotation marks: ' ' or double quotation marks \" \" as long as you use the same ones together."
   ]
  },
  {
   "cell_type": "code",
   "execution_count": null,
   "metadata": {},
   "outputs": [],
   "source": [
    "string1='Hello '\n",
    "string2=\"World\"\n",
    "print(string1+string2)"
   ]
  },
  {
   "cell_type": "markdown",
   "metadata": {},
   "source": [
    "**Exercise(1):** Write out your own sentence using different words. See what happens if you use `\"` and ' together (like `string1='Hello\"`)."
   ]
  },
  {
   "cell_type": "code",
   "execution_count": null,
   "metadata": {},
   "outputs": [],
   "source": []
  },
  {
   "cell_type": "markdown",
   "metadata": {},
   "source": [
    "Strings are very useful both for outputting text to the screen and to let you know what your code is doing (i.e. debugging output).\n",
    "\n",
    "Now we will look at doing some simple operations with number objects.\n",
    "Example:"
   ]
  },
  {
   "cell_type": "code",
   "execution_count": null,
   "metadata": {},
   "outputs": [],
   "source": [
    "var1,var2=5,12\n",
    "var3=var1+var2\n",
    "print('var1=',var1,'var2=',var2,'var3=',var3)"
   ]
  },
  {
   "cell_type": "markdown",
   "metadata": {},
   "source": [
    "The operations are exactly what you would expect with multiply, divide, add and subtract all being given by: `*` `/` `+` `-` \n",
    "\n",
    "**Exercise(2):** Check all the standard operations produce what you expect, print out the answers. Also check that the operations work in the order you expect - that multiply and divide are before addition and subtraction."
   ]
  },
  {
   "cell_type": "code",
   "execution_count": null,
   "metadata": {},
   "outputs": [],
   "source": []
  },
  {
   "cell_type": "markdown",
   "metadata": {},
   "source": [
    "Note that Python is fairly forgiving with definitions of numbers. We have not specified whether values are integers or otherwise but Python will deal with whatever it is given. If you want to force a floating point number you specify: `var1=12.0` and Python will keep that as a floating point number.\n",
    "\n",
    "A list is a way to keep any type of variable (including arrays). They are easily formed, added to and read from:\n",
    "\n",
    "**Example:**"
   ]
  },
  {
   "cell_type": "code",
   "execution_count": null,
   "metadata": {},
   "outputs": [],
   "source": [
    "list1=[] # create an empty list\n",
    "list2=[5,4,7] # create a list with 3 elements\n",
    "list1.append(2) # add a 2 to the first empty list\n",
    "list1.append(6) # add a 6 to the first list which currently has one element in\n",
    "print(list1)\n",
    "print(list2)"
   ]
  },
  {
   "cell_type": "markdown",
   "metadata": {},
   "source": [
    "If we need to access anything from the list we can do so with indexing. Note that in Python, as in many languages (but not Matlab if anyone has used that) the first element in a list is indexed as 0. To access the second element in the list `list1` you type: `list1[1]` and note that you need to use square brackets to access the list elements.\n",
    "\n",
    "**Example:**"
   ]
  },
  {
   "cell_type": "code",
   "execution_count": null,
   "metadata": {},
   "outputs": [],
   "source": [
    "val1=list1[0]\n",
    "val2=list2[1]\n",
    "print(val1)\n",
    "print(val2)"
   ]
  },
  {
   "cell_type": "markdown",
   "metadata": {},
   "source": [
    "**Exercise(3):** Create your own lists both   \n",
    "a) start with an empty list and then append to it;  \n",
    "b) populate the list to start with.  \n",
    "Try adding strings as well as numbers. Check that you can correctly access the correct elements."
   ]
  },
  {
   "cell_type": "code",
   "execution_count": null,
   "metadata": {},
   "outputs": [],
   "source": []
  },
  {
   "cell_type": "markdown",
   "metadata": {},
   "source": [
    "**Conditions**\n",
    "\n",
    "We will often need to check if some variable, say `var1`, is equal to a certain value, or another variable. The operator `==` checks this for us and if the condition is met then returns `True` and if not met then `False`.\n",
    "\n",
    "**Example:**"
   ]
  },
  {
   "cell_type": "code",
   "execution_count": null,
   "metadata": {},
   "outputs": [],
   "source": [
    "var1,var2=4,6\n",
    "print(var1==2)\n",
    "print(var1==4)\n",
    "print(var1==var2)\n",
    "print(var1==var2-2)"
   ]
  },
  {
   "cell_type": "markdown",
   "metadata": {},
   "source": [
    "We also have the comparison operations: `<`, `<=`, `>`, `>=`, `!=`\n",
    "\n",
    "**Exercise(4):** Similarly as for the last example, go through the comparison operations and check what each of them does. Print out the `True`/`False` statements and check that they are what you expect."
   ]
  },
  {
   "cell_type": "code",
   "execution_count": null,
   "metadata": {},
   "outputs": [],
   "source": []
  },
  {
   "cell_type": "markdown",
   "metadata": {},
   "source": [
    "The `if` statement, combined with Boolean operators (e.g. `and`, `or`) will be used regularly. \n",
    "\n",
    "**Example:**"
   ]
  },
  {
   "cell_type": "code",
   "execution_count": null,
   "metadata": {},
   "outputs": [],
   "source": [
    "name='Arup'\n",
    "age=72\n",
    "if name==\"Arup\" and age==72:\n",
    "    print('Your company was founded', age, 'years ago')"
   ]
  },
  {
   "cell_type": "markdown",
   "metadata": {},
   "source": [
    "Note the colon at the end of the `if` statement - without it you will get errors. Also note the requirement for a **indentation** - without it there will also be errors. The identations defines what is being done after the `if` statement.\n",
    "\n",
    "Also very important are `elif` (else if) and `else` statements. These sit on the same level of indentation as the `if` above and the statement looks like:\n",
    "\n",
    "> **if** &lt;write some statement here&gt;:   \n",
    "> &nbsp;&nbsp;&nbsp;&nbsp;&nbsp;&nbsp; &lt;do something here&gt;   \n",
    "> **elif**  &lt;write another statement here&gt;:   \n",
    "> &nbsp;&nbsp;&nbsp;&nbsp;&nbsp;&nbsp; &lt;do something else here&gt;   \n",
    "> **else**:     \n",
    "> &nbsp;&nbsp;&nbsp;&nbsp;&nbsp;&nbsp; &lt;do the thing you want to do if the other two statements are not true&gt;    \n",
    "\n",
    "**Exercise(5):** Write out a set of `if` - `elif` - `else` statements for variables you define, alter the requirements or the variables so you can check that you are reaching the correct part of the if statement."
   ]
  },
  {
   "cell_type": "code",
   "execution_count": null,
   "metadata": {},
   "outputs": [],
   "source": []
  },
  {
   "cell_type": "markdown",
   "metadata": {},
   "source": [
    "**Loops**\n",
    "\n",
    "Very often we use `if` statements and conditions with loops. Python has two loops: `for` and `while`.\n",
    "\n",
    "**Example:**"
   ]
  },
  {
   "cell_type": "code",
   "execution_count": null,
   "metadata": {},
   "outputs": [],
   "source": [
    "var1=4\n",
    "print('What we get from the for loop:')\n",
    "for i in range(var1):\n",
    "    print(i)\n",
    "print('What we get from the while loop:')\n",
    "var2=0\n",
    "while var2<4:\n",
    "    print(var2)\n",
    "    var2=var2+1\n",
    "print('If we add in a break:')\n",
    "for i in range(var1):\n",
    "    if i>1:\n",
    "        break\n",
    "    print(i)"
   ]
  },
  {
   "cell_type": "markdown",
   "metadata": {},
   "source": [
    "Note that the syntax is rather different. The `while` loop will continue to loop around until the statement next to it (var2<4 in this case) ceases to be true, then it will stop.\n",
    "\n",
    "The `for` loop is slightly different, it utilises the inbuilt `range` function which generates a set of sequences up to the value placed in it. The loop then iterate through that sequence until it reaches the end. The `break` removes you from that loop, and works the same way for the `while` or the `for` loop.\n",
    "\n",
    "**Exercise(6):** Create a list of 5 numbers. Write a `while` loop that loops through and outputs each element of the list. Do the same with a `for` loop. (You may want to use the inbuilt function `len` which tells you how long a list is)."
   ]
  },
  {
   "cell_type": "code",
   "execution_count": null,
   "metadata": {},
   "outputs": [],
   "source": []
  },
  {
   "cell_type": "markdown",
   "metadata": {},
   "source": [
    "**Functions**\n",
    "\n",
    "Functions are useful in Python if you want to repeatedly do the same task without having to rewrite code and to make the code more readable.\n",
    "\n",
    "**Example:**"
   ]
  },
  {
   "cell_type": "code",
   "execution_count": null,
   "metadata": {},
   "outputs": [],
   "source": [
    "def function1(x,y):\n",
    "    z1=x+y\n",
    "    z2=x*y\n",
    "    return z1,z2\n",
    "\n",
    "x1,y1=1,4\n",
    "z11,z22=function1(x1,y1)\n",
    "print(z11,z22)"
   ]
  },
  {
   "cell_type": "markdown",
   "metadata": {},
   "source": [
    "This simple function take two inputs: `x1` and `y1` and returns two values, `z1` and `z2`. You can use any number of inputs and outputs. The function is called by its name (`function1`). \n",
    "\n",
    "**Exercise(7):** Write your own function to print all the values of a list of 5 numbers you create and that returns a new list with each value of the new list being twice the value of the previous list (so if your original list was `[1,3,2,1,2]` then your new list should be `[2,6,4,2,4]`). Then use the builtin `print` function to show the new list and check it works correctly."
   ]
  },
  {
   "cell_type": "code",
   "execution_count": null,
   "metadata": {},
   "outputs": [],
   "source": []
  },
  {
   "cell_type": "markdown",
   "metadata": {},
   "source": [
    "One of the great advantages of Python is the packages and libraries which either come installed (especially with Anaconda) or can be added on. These packages need to be loaded up separately. We will be using Numpy and Matplotlib, so we need to import them both.  \n",
    "- Numpy is a powerful package which provides access to scientific computing methods, especially in the use of arrays.  \n",
    "- Matplotlib is a package for making figures and plots which we will be using throughout the rest of the tutorials. \n",
    "<!-- In a later tutorial we will be using a package called pytorch as well which allows the use of neural networks.-->\n",
    "\n",
    "We will be using numpy mostly for dealing with arrays - we will mostly be using 2-dimensional arrays. We will briefly go through some of the uses of arrays. Note that unlike lists, numpy arrays are just for numbers.\n",
    "\n",
    "We will first create an array and then produce some outputs of that array.\n",
    "\n",
    "**Example**  \n",
    "We first import numpy and matplotlib:"
   ]
  },
  {
   "cell_type": "code",
   "execution_count": null,
   "metadata": {},
   "outputs": [],
   "source": [
    "import numpy as np # This statement imports the numpy package, I have called it np, as a shorthand\n",
    "import matplotlib.pyplot as plt"
   ]
  },
  {
   "cell_type": "code",
   "execution_count": null,
   "metadata": {},
   "outputs": [],
   "source": [
    "a=np.array([1,2,3]) # array a, has 3 elements - it is a 1-d array\n",
    "print(a)\n",
    "b=np.array([[1,2,3],[4,5,6]]) # array b, has 6 elements, 2 rows and 3 columns - it is a 2-d array\n",
    "print(b)"
   ]
  },
  {
   "cell_type": "markdown",
   "metadata": {},
   "source": [
    "If we want to extract the values from an array we do so with indexing, much like with a list, but for a 2-d array we need two indices. If we want a whole row or column we use the `:` to extract everything from that row or column. Or you can change the value of the element as well.\n",
    "\n",
    "**Example:**"
   ]
  },
  {
   "cell_type": "code",
   "execution_count": null,
   "metadata": {},
   "outputs": [],
   "source": [
    "c=a[2]\n",
    "d=b[:,1]\n",
    "e=b[0,2]\n",
    "print(c)\n",
    "print(d)\n",
    "print(e)\n",
    "b[0,2]=17\n",
    "print(b[0,2])\n"
   ]
  },
  {
   "cell_type": "markdown",
   "metadata": {},
   "source": [
    "**Exercise(8):** Create your own numpy arrays, make sure you can correctly extract values from the array. Make changes to different elements and make sure you are clear what is being changed and that it all corresponds with what you expect."
   ]
  },
  {
   "cell_type": "code",
   "execution_count": null,
   "metadata": {},
   "outputs": [],
   "source": []
  },
  {
   "cell_type": "markdown",
   "metadata": {},
   "source": [
    "There is a huge amount to the numpy which we are not going to go into now but will return to later in later tutorials.\n",
    "\n",
    "**Matplotlib**\n",
    "\n",
    "Matplotlib is a plotting library for python that produces figures in a variety of formats. \n",
    "\n",
    "\n",
    "**Example:**"
   ]
  },
  {
   "cell_type": "code",
   "execution_count": null,
   "metadata": {},
   "outputs": [],
   "source": [
    "n,xmin,xmax=10,1,100\n",
    "x=np.linspace(xmin,xmax,n)\n",
    "y=np.linspace(xmin,xmax,n)+np.random.normal(loc=0,scale=8,size=n)\n",
    "\n",
    "plt.figure(1)\n",
    "plt.plot(x,y,'kx')\n",
    "plt.plot(x,x,'b--')\n",
    "plt.xlabel('x value')\n",
    "plt.ylabel('y value')"
   ]
  },
  {
   "cell_type": "markdown",
   "metadata": {},
   "source": [
    "**Exercise(9):** Work out how the previous plot was made, copy the code to the cell below this one and play around with it. Alter the colours of the lines, add in new lines, change the thicknesses of the line, change the marker type. "
   ]
  },
  {
   "cell_type": "code",
   "execution_count": null,
   "metadata": {},
   "outputs": [],
   "source": []
  },
  {
   "cell_type": "markdown",
   "metadata": {},
   "source": [
    "**Exercise(10):** Look up numpy matrix multiplication. Work out how to do element-wise multiplication and how to do matrix multiplication. Look up how to create a matrix of zeros and a matrix of ones. "
   ]
  },
  {
   "cell_type": "markdown",
   "metadata": {},
   "source": [
    "**Exercise(11):** Create your own random data using `np.random` and plot your own results. Create a quadratic, cubic and quartic plots. Create a 2-d array with, say, 30 by 30 elements and plot an image (use `plt.imshow`) of the array. "
   ]
  },
  {
   "cell_type": "markdown",
   "metadata": {},
   "source": [
    "**Exercise(12):** If you have got to here before the end of the session, please go to: https://www.w3schools.com/python/ and work through their tutorials"
   ]
  },
  {
   "cell_type": "code",
   "execution_count": null,
   "metadata": {},
   "outputs": [],
   "source": []
  }
 ],
 "metadata": {
  "kernelspec": {
   "display_name": "Python 3",
   "language": "python",
   "name": "python3"
  },
  "language_info": {
   "codemirror_mode": {
    "name": "ipython",
    "version": 3
   },
   "file_extension": ".py",
   "mimetype": "text/x-python",
   "name": "python",
   "nbconvert_exporter": "python",
   "pygments_lexer": "ipython3",
   "version": "3.7.3"
  }
 },
 "nbformat": 4,
 "nbformat_minor": 4
}
